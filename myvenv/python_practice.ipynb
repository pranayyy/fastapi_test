{
 "cells": [
  {
   "cell_type": "code",
   "execution_count": 20,
   "metadata": {},
   "outputs": [
    {
     "name": "stdout",
     "output_type": "stream",
     "text": [
      "[17, 46, 23, 51, 90]\n"
     ]
    }
   ],
   "source": [
    "def myfunction(x): \n",
    "   return x%10 \n",
    "list1 = [17, 23, 46, 51, 90] \n",
    "list1.sort(key=myfunction, reverse=True) \n",
    "print(list1)\n"
   ]
  },
  {
   "cell_type": "markdown",
   "metadata": {},
   "source": [
    "list methods: append(), insert(index,val), copy(),extend([]),remove(object),pop(index), index(val),count(obj),clear(),reverse([]),sort([])\n",
    "tuple methods: index(),count()\n",
    "set_methods: add(),copy(),clear(),differnece, union,intersection,instersection_update,difference_update,symetric_difference(),issuperset(),isisubset(),isdisjoint(),pop(),update()\n",
    "dict_methods: keys(),values(),items(),clear(),pop(),popitem(),setdefault(key,default=None),dict.update(dic2),dict.get(key,default=None),dict.has_key(key),dict.copy()"
   ]
  },
  {
   "cell_type": "code",
   "execution_count": 21,
   "metadata": {},
   "outputs": [],
   "source": [
    "#file handling\n",
    "fo=open(\"foo.txt\",\"w+\")\n",
    "fo.write(\"this is rat race\")\n",
    "fo.seek(10,0)\n",
    "data=fo.read(3)\n",
    "fo.seek(10,0)\n",
    "fo.write(\"cat\")\n",
    "fo.close()"
   ]
  },
  {
   "cell_type": "code",
   "execution_count": 22,
   "metadata": {},
   "outputs": [
    {
     "name": "stdout",
     "output_type": "stream",
     "text": [
      "1\n"
     ]
    }
   ],
   "source": [
    "class Myclass:\n",
    "    class_variable=0\n",
    "\n",
    "    def __init__(self,value):\n",
    "        self.value=value\n",
    "    \n",
    "    @classmethod\n",
    "    def test(cls):\n",
    "        cls.class_variable+=1\n",
    "\n",
    "obj=Myclass(11)\n",
    "obj2=Myclass(12)\n",
    "\n",
    "Myclass.test()\n",
    "print(Myclass.class_variable)\n"
   ]
  },
  {
   "cell_type": "code",
   "execution_count": 24,
   "metadata": {},
   "outputs": [
    {
     "name": "stdout",
     "output_type": "stream",
     "text": [
      "Bhavana\n",
      "10000\n",
      "Name :  Bhavana , age:  24 , salary:  10000\n",
      "None\n"
     ]
    },
    {
     "ename": "AttributeError",
     "evalue": "'Employee' object has no attribute '__age'",
     "output_type": "error",
     "traceback": [
      "\u001b[1;31m---------------------------------------------------------------------------\u001b[0m",
      "\u001b[1;31mAttributeError\u001b[0m                            Traceback (most recent call last)",
      "Cell \u001b[1;32mIn[24], line 14\u001b[0m\n\u001b[0;32m     12\u001b[0m \u001b[38;5;28mprint\u001b[39m (e1\u001b[38;5;241m.\u001b[39m_salary) \n\u001b[0;32m     13\u001b[0m \u001b[38;5;28mprint\u001b[39m(e1\u001b[38;5;241m.\u001b[39mdisplayEmployee())\n\u001b[1;32m---> 14\u001b[0m \u001b[38;5;28mprint\u001b[39m (\u001b[43me1\u001b[49m\u001b[38;5;241;43m.\u001b[39;49m\u001b[43m__age\u001b[49m)  \u001b[38;5;66;03m#this raises error  Employee' object has no attribute '__age' \u001b[39;00m\n",
      "\u001b[1;31mAttributeError\u001b[0m: 'Employee' object has no attribute '__age'"
     ]
    }
   ],
   "source": [
    "class Employee: \n",
    "   def __init__(self, name, age, salary): \n",
    "      self.name = name # public variable \n",
    "      self.__age = age # private variable \n",
    "      self._salary = salary # protected variable \n",
    "   def displayEmployee(self): \n",
    "      print (\"Name : \", self.name, \", age: \", self.__age, \", salary: \", self._salary) \n",
    " \n",
    "e1=Employee(\"Bhavana\", 24, 10000) \n",
    " \n",
    "print (e1.name) \n",
    "print (e1._salary) \n",
    "print(e1.displayEmployee())\n",
    "print (e1.__age)  #this raises error  Employee' object has no attribute '__age' \n",
    " \n"
   ]
  },
  {
   "cell_type": "markdown",
   "metadata": {},
   "source": [
    "'enumeration' refers to the process of assigning fixed constant values to a set of strings, so that each string can be identified by the value bound to it. Python's standard library offers theenummodule. The Enum class included inenummodule is used as the parent class to define enumeration of a set of identifiers \n"
   ]
  },
  {
   "cell_type": "code",
   "execution_count": null,
   "metadata": {},
   "outputs": [],
   "source": [
    "\n",
    "from enum import Enum \n",
    " \n",
    "class subjects(Enum): \n",
    "   ENGLISH = \"E\" \n",
    "   MATHS = \"M\" \n",
    "   GEOGRAPHY = \"G\" \n",
    "   SANSKRIT = \"S\" \n",
    "    \n",
    "obj = subjects.SANSKRIT \n",
    "print (type(obj), obj.name, obj.value) \n",
    " \n"
   ]
  }
 ],
 "metadata": {
  "kernelspec": {
   "display_name": "myvenv",
   "language": "python",
   "name": "python3"
  },
  "language_info": {
   "codemirror_mode": {
    "name": "ipython",
    "version": 3
   },
   "file_extension": ".py",
   "mimetype": "text/x-python",
   "name": "python",
   "nbconvert_exporter": "python",
   "pygments_lexer": "ipython3",
   "version": "3.12.7"
  }
 },
 "nbformat": 4,
 "nbformat_minor": 2
}
