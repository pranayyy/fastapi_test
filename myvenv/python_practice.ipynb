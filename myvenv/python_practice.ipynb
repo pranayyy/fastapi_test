{
 "cells": [
  {
   "cell_type": "code",
   "execution_count": 20,
   "metadata": {},
   "outputs": [
    {
     "name": "stdout",
     "output_type": "stream",
     "text": [
      "[17, 46, 23, 51, 90]\n"
     ]
    }
   ],
   "source": [
    "def myfunction(x): \n",
    "   return x%10 \n",
    "list1 = [17, 23, 46, 51, 90] \n",
    "list1.sort(key=myfunction, reverse=True) \n",
    "print(list1)\n"
   ]
  },
  {
   "cell_type": "markdown",
   "metadata": {},
   "source": [
    "list methods: append(), insert(index,val), copy(),extend([]),remove(object),pop(index), index(val),count(obj),clear(),reverse([]),sort([])\n",
    "tuple methods: index(),count()\n",
    "set_methods: add(),copy(),clear(),differnece, union,intersection,instersection_update,difference_update,symetric_difference(),issuperset(),isisubset(),isdisjoint(),pop(),update()\n",
    "dict_methods: keys(),values(),items(),clear(),pop(),popitem(),setdefault(key,default=None),dict.update(dic2),dict.get(key,default=None),dict.has_key(key),dict.copy()"
   ]
  },
  {
   "cell_type": "code",
   "execution_count": 21,
   "metadata": {},
   "outputs": [],
   "source": [
    "#file handling\n",
    "fo=open(\"foo.txt\",\"w+\")\n",
    "fo.write(\"this is rat race\")\n",
    "fo.seek(10,0)\n",
    "data=fo.read(3)\n",
    "fo.seek(10,0)\n",
    "fo.write(\"cat\")\n",
    "fo.close()"
   ]
  },
  {
   "cell_type": "code",
   "execution_count": 22,
   "metadata": {},
   "outputs": [
    {
     "name": "stdout",
     "output_type": "stream",
     "text": [
      "1\n"
     ]
    }
   ],
   "source": [
    "class Myclass:\n",
    "    class_variable=0\n",
    "\n",
    "    def __init__(self,value):\n",
    "        self.value=value\n",
    "    \n",
    "    @classmethod\n",
    "    def test(cls):\n",
    "        cls.class_variable+=1\n",
    "\n",
    "obj=Myclass(11)\n",
    "obj2=Myclass(12)\n",
    "\n",
    "Myclass.test()\n",
    "print(Myclass.class_variable)\n"
   ]
  },
  {
   "cell_type": "code",
   "execution_count": 24,
   "metadata": {},
   "outputs": [
    {
     "name": "stdout",
     "output_type": "stream",
     "text": [
      "Bhavana\n",
      "10000\n",
      "Name :  Bhavana , age:  24 , salary:  10000\n",
      "None\n"
     ]
    },
    {
     "ename": "AttributeError",
     "evalue": "'Employee' object has no attribute '__age'",
     "output_type": "error",
     "traceback": [
      "\u001b[1;31m---------------------------------------------------------------------------\u001b[0m",
      "\u001b[1;31mAttributeError\u001b[0m                            Traceback (most recent call last)",
      "Cell \u001b[1;32mIn[24], line 14\u001b[0m\n\u001b[0;32m     12\u001b[0m \u001b[38;5;28mprint\u001b[39m (e1\u001b[38;5;241m.\u001b[39m_salary) \n\u001b[0;32m     13\u001b[0m \u001b[38;5;28mprint\u001b[39m(e1\u001b[38;5;241m.\u001b[39mdisplayEmployee())\n\u001b[1;32m---> 14\u001b[0m \u001b[38;5;28mprint\u001b[39m (\u001b[43me1\u001b[49m\u001b[38;5;241;43m.\u001b[39;49m\u001b[43m__age\u001b[49m)  \u001b[38;5;66;03m#this raises error  Employee' object has no attribute '__age' \u001b[39;00m\n",
      "\u001b[1;31mAttributeError\u001b[0m: 'Employee' object has no attribute '__age'"
     ]
    }
   ],
   "source": [
    "class Employee: \n",
    "   def __init__(self, name, age, salary): \n",
    "      self.name = name # public variable \n",
    "      self.__age = age # private variable \n",
    "      self._salary = salary # protected variable \n",
    "   def displayEmployee(self): \n",
    "      print (\"Name : \", self.name, \", age: \", self.__age, \", salary: \", self._salary) \n",
    " \n",
    "e1=Employee(\"Bhavana\", 24, 10000) \n",
    " \n",
    "print (e1.name) \n",
    "print (e1._salary) \n",
    "print(e1.displayEmployee())\n",
    "print (e1.__age)  #this raises error  Employee' object has no attribute '__age' \n",
    " \n"
   ]
  },
  {
   "cell_type": "markdown",
   "metadata": {},
   "source": [
    "'enumeration' refers to the process of assigning fixed constant values to a set of strings, so that each string can be identified by the value bound to it. Python's standard library offers theenummodule. The Enum class included inenummodule is used as the parent class to define enumeration of a set of identifiers \n"
   ]
  },
  {
   "cell_type": "code",
   "execution_count": 25,
   "metadata": {},
   "outputs": [
    {
     "name": "stdout",
     "output_type": "stream",
     "text": [
      "<enum 'subjects'> SANSKRIT S\n"
     ]
    }
   ],
   "source": [
    "\n",
    "from enum import Enum \n",
    " \n",
    "class subjects(Enum): \n",
    "   ENGLISH = \"E\" \n",
    "   MATHS = \"M\" \n",
    "   GEOGRAPHY = \"G\" \n",
    "   SANSKRIT = \"S\" \n",
    "    \n",
    "obj = subjects.SANSKRIT \n",
    "print (type(obj), obj.name, obj.value) \n",
    " \n"
   ]
  },
  {
   "cell_type": "markdown",
   "metadata": {},
   "source": [
    "Reduce functions"
   ]
  },
  {
   "cell_type": "code",
   "execution_count": 35,
   "metadata": {},
   "outputs": [
    {
     "name": "stdout",
     "output_type": "stream",
     "text": [
      "164\n",
      "70\n",
      "hi hellohru\n",
      "[1, 4, 9, 16, 25]\n",
      "[2, 4, 6, 8]\n"
     ]
    }
   ],
   "source": [
    "from functools import reduce\n",
    "\n",
    "x= [10,20,3,10,1,50,70]\n",
    "sum_of_nums=reduce(lambda x,y:x+y,x)                            \n",
    "\n",
    "print(sum_of_nums)\n",
    "\n",
    "max_nums=reduce(lambda x,y:x if x > y else y,x)\n",
    "print(max_nums)\n",
    "\n",
    "y=[\"hi\",\" \",\"hello\",\"hru\"]\n",
    "concatenated_string=reduce(lambda x,y:x+y,y)\n",
    "print(concatenated_string)\n",
    "\n",
    "z=[1,2,3,4,5]\n",
    "mapped_values=map(lambda x:x**2,z)\n",
    "print(list(mapped_values))\n",
    "\n",
    "z=[2,4,6,8,9]\n",
    "filter_values=filter(lambda x:x%2==0,z)\n",
    "print(list(filter_values))"
   ]
  },
  {
   "cell_type": "code",
   "execution_count": 41,
   "metadata": {},
   "outputs": [
    {
     "name": "stdout",
     "output_type": "stream",
     "text": [
      "t1\n",
      "0\n",
      "t1\n",
      "1\n",
      "t1\n",
      "2\n",
      "t1\n",
      "3\n",
      "t1\n",
      "4\n",
      "t1\n",
      "5\n",
      "t1\n",
      "6\n",
      "t1\n",
      "7\n",
      "t1\n",
      "8\n",
      "t1\n",
      "9\n",
      "t2\n",
      "0\n",
      "t2\n",
      "1\n",
      "t2\n",
      "2\n",
      "t2\n",
      "3\n",
      "t2\n",
      "4\n",
      "t2\n",
      "5\n",
      "t2\n",
      "6\n",
      "t2\n",
      "7\n",
      "t2\n",
      "8\n",
      "t2\n",
      "9\n"
     ]
    }
   ],
   "source": [
    "import threading\n",
    "from time import sleep\n",
    "def func():\n",
    "    for x in range(10):\n",
    "        print(threading.current_thread().name)\n",
    "        #sleep(1)\n",
    "        print(x)\n",
    "\n",
    "t1=threading.Thread(target=func,name=\"t1\")\n",
    "t2=threading.Thread(target=func,name=\"t2\")\n",
    "t1.start()\n",
    "t2.start()\n",
    "\n",
    "t1.join()\n",
    "t2.join()"
   ]
  },
  {
   "cell_type": "code",
   "execution_count": 44,
   "metadata": {},
   "outputs": [
    {
     "name": "stdout",
     "output_type": "stream",
     "text": [
      "0\n",
      "1\n",
      "1\n",
      "2\n",
      "3\n",
      "5\n",
      "8\n",
      "13\n",
      "21\n",
      "34\n"
     ]
    }
   ],
   "source": [
    "def fib_gen():\n",
    "    a,b=0,1\n",
    "    while True:\n",
    "        yield a\n",
    "        a,b=b,a+b\n",
    "fib=fib_gen()\n",
    "for x in range(10):\n",
    "    print(next(fib))"
   ]
  },
  {
   "cell_type": "code",
   "execution_count": 47,
   "metadata": {},
   "outputs": [
    {
     "name": "stdout",
     "output_type": "stream",
     "text": [
      "this is inner\n",
      "1\n",
      "0:00:01.000588 time to execute\n"
     ]
    }
   ],
   "source": [
    "import datetime\n",
    "def timer(func):\n",
    "    def inner(*args,**kwargs):\n",
    "        print(\"this is inner\")\n",
    "        start=datetime.datetime.now()\n",
    "        func()\n",
    "        end=datetime.datetime.now()\n",
    "        diff=end-start\n",
    "        print(diff,\"time to execute\")\n",
    "    return inner\n",
    "\n",
    "@timer\n",
    "def my_func():\n",
    "    sleep(1)\n",
    "    a,b=1,0\n",
    "    c=a+b\n",
    "    print(c)\n",
    "\n",
    "my_func()"
   ]
  },
  {
   "cell_type": "code",
   "execution_count": 48,
   "metadata": {},
   "outputs": [
    {
     "name": "stdout",
     "output_type": "stream",
     "text": [
      "120\n"
     ]
    }
   ],
   "source": [
    "def fact(n):\n",
    "    if(n==1):\n",
    "        return 1\n",
    "    else:\n",
    "        return n*fact(n-1)\n",
    "    \n",
    "print(fact(5))\n"
   ]
  },
  {
   "cell_type": "code",
   "execution_count": 49,
   "metadata": {},
   "outputs": [
    {
     "name": "stdout",
     "output_type": "stream",
     "text": [
      "[{'name': 'Bob', 'age': 25}, {'name': 'Alice', 'age': 30}, {'name': 'Charlie', 'age': 35}]\n"
     ]
    }
   ],
   "source": [
    "my_list = [{\"name\": \"Alice\", \"age\": 30}, {\"name\": \"Bob\", \"age\": 25}, {\"name\": \"Charlie\", \"age\": 35}] \n",
    "\n",
    "y=sorted(my_list,key=lambda x:x[\"age\"])\n",
    "print(y)"
   ]
  },
  {
   "cell_type": "code",
   "execution_count": 54,
   "metadata": {},
   "outputs": [
    {
     "name": "stdout",
     "output_type": "stream",
     "text": [
      "1\n",
      "[1]\n",
      "[2, [3, 4], 5]\n",
      "2\n",
      "[2]\n",
      "[3, 4]\n",
      "3\n",
      "[3]\n",
      "4\n",
      "[3, 4]\n",
      "[2, 3, 4]\n",
      "5\n",
      "[2, 3, 4, 5]\n",
      "[1, 2, 3, 4, 5]\n",
      "6\n",
      "[1, 2, 3, 4, 5, 6]\n",
      "[7, 8]\n",
      "7\n",
      "[7]\n",
      "8\n",
      "[7, 8]\n",
      "[1, 2, 3, 4, 5, 6, 7, 8]\n",
      "[1, 2, 3, 4, 5, 6, 7, 8]\n"
     ]
    }
   ],
   "source": [
    "def flatten_list(li):\n",
    "    final=[]\n",
    "    for x in li:\n",
    "        if isinstance(x,list):\n",
    "            final.extend(flatten_list(x))\n",
    "        else:\n",
    "            final.append(x)\n",
    "    return final\n",
    "\n",
    "        \n",
    "nested_list = [1, [2, [3, 4], 5], 6, [7, 8]] \n",
    "flat_list = flatten_list(nested_list) \n",
    "print(flat_list)\n"
   ]
  },
  {
   "cell_type": "code",
   "execution_count": 61,
   "metadata": {},
   "outputs": [
    {
     "name": "stdout",
     "output_type": "stream",
     "text": [
      "[('taks1', 0, 1), ('taks2', 1, 2), ('task3', 2, 3)]\n",
      "1\n",
      "2\n",
      "3\n"
     ]
    }
   ],
   "source": [
    "import heapq\n",
    "\n",
    "class PriorityQueue:\n",
    "    def __init__(self):\n",
    "        self.queue=[]\n",
    "        self.index=0\n",
    "    \n",
    "    def push(self,item,priority):\n",
    "        heapq.heappush(self.queue,(item,self.index,priority))\n",
    "        self.index+=1\n",
    "\n",
    "    def pop(self):\n",
    "        return heapq.heappop(self.queue)[-1]\n",
    "    \n",
    "    def items(self):\n",
    "        return self.queue\n",
    "\n",
    "if __name__ == \"__main__\": \n",
    "    pq=PriorityQueue()\n",
    "    pq.push('taks1',1)\n",
    "    pq.push('taks2',2)\n",
    "    pq.push('task3',3)\n",
    "    print(pq.items())\n",
    "\n",
    "    print(pq.pop())\n",
    "    print(pq.pop())\n",
    "    print(pq.pop())\n"
   ]
  },
  {
   "cell_type": "code",
   "execution_count": 67,
   "metadata": {},
   "outputs": [],
   "source": [
    "import sqlite3\n",
    "\n",
    "class DBconnection:\n",
    "    def __init__(self,dbname):\n",
    "        self.dbname=\"my_db\"\n",
    "        self.connection=None\n",
    "    \n",
    "    def __enter__(self):\n",
    "        self.connection=sqlite3.connect(self.dbname)\n",
    "        return self.connection\n",
    "    def __exit__(self,exc_type,exc_value,traceback):\n",
    "        if self.connection:\n",
    "            self.connection.close()\n",
    "\n",
    "\n",
    "with DBconnection(\"dbname\") as conn:\n",
    "    cur=conn.cursor()\n",
    "    #cur.execute(\"create table tab(id integer primary key, name Text\")\n",
    "    cur.execute(\"select * from tab\")\n",
    "\n",
    "\n",
    "\n",
    "\n"
   ]
  },
  {
   "cell_type": "code",
   "execution_count": null,
   "metadata": {},
   "outputs": [],
   "source": [
    "()"
   ]
  }
 ],
 "metadata": {
  "kernelspec": {
   "display_name": "myvenv",
   "language": "python",
   "name": "python3"
  },
  "language_info": {
   "codemirror_mode": {
    "name": "ipython",
    "version": 3
   },
   "file_extension": ".py",
   "mimetype": "text/x-python",
   "name": "python",
   "nbconvert_exporter": "python",
   "pygments_lexer": "ipython3",
   "version": "3.12.7"
  }
 },
 "nbformat": 4,
 "nbformat_minor": 2
}
